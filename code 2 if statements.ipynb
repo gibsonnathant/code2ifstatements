{
 "cells": [
  {
   "cell_type": "code",
   "execution_count": 11,
   "id": "47a43765",
   "metadata": {},
   "outputs": [
    {
     "name": "stdout",
     "output_type": "stream",
     "text": [
      "Enter the patient's temperature (in degrees Fahrenheit): xyz\n"
     ]
    }
   ],
   "source": [
    "# input temperature\n",
    "temperature = input(\"Enter the patient's temperature (in degrees Fahrenheit): \")"
   ]
  },
  {
   "cell_type": "code",
   "execution_count": 12,
   "id": "4479975d",
   "metadata": {},
   "outputs": [
    {
     "name": "stdout",
     "output_type": "stream",
     "text": [
      "Error: Please enter a valid temperature (numeric value).\n"
     ]
    }
   ],
   "source": [
    "# check temperature\n",
    "if temperature.replace(\".\", \"\", 1).isdigit():\n",
    "    temperature_input = float(temperature)\n",
    "    \n",
    "    if temperature_input >= 99.5:\n",
    "        print(\"The patient has a high temperature.\")\n",
    "    else:\n",
    "        print(\"The patient has a normal temperature.\")\n",
    "else:\n",
    "    print(\"Error: Please enter a valid temperature (numeric value).\")"
   ]
  },
  {
   "cell_type": "code",
   "execution_count": null,
   "id": "a7ce75e2",
   "metadata": {},
   "outputs": [],
   "source": []
  },
  {
   "cell_type": "code",
   "execution_count": null,
   "id": "047b30ec",
   "metadata": {},
   "outputs": [],
   "source": []
  },
  {
   "cell_type": "code",
   "execution_count": null,
   "id": "bb9a929c",
   "metadata": {},
   "outputs": [],
   "source": []
  },
  {
   "cell_type": "code",
   "execution_count": null,
   "id": "0a44d8da",
   "metadata": {},
   "outputs": [],
   "source": []
  }
 ],
 "metadata": {
  "kernelspec": {
   "display_name": "Python 3 (ipykernel)",
   "language": "python",
   "name": "python3"
  },
  "language_info": {
   "codemirror_mode": {
    "name": "ipython",
    "version": 3
   },
   "file_extension": ".py",
   "mimetype": "text/x-python",
   "name": "python",
   "nbconvert_exporter": "python",
   "pygments_lexer": "ipython3",
   "version": "3.10.9"
  }
 },
 "nbformat": 4,
 "nbformat_minor": 5
}
